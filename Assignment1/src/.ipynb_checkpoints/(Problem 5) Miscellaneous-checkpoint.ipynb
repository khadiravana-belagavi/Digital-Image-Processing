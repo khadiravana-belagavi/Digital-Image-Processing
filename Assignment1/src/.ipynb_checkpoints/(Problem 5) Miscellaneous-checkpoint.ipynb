{
 "cells": [
  {
   "cell_type": "markdown",
   "metadata": {},
   "source": [
    "1. If we keep the MSB bits to 0, the second half of the histogram gets stacked on the first half i.e intensity value of 128 maps to 0, 129 maps to 1 and so on. In other words the transformation of an intensity value is as follows: T(r) = r modulo 128; where r is the original intensity value and T(r) is the transformed intensity value.\n",
    "\n",
    "2. If we keep the LSB bits to 0, the odd intensity values get mapped to their previous even intensity value i.e 1 maps to 0, 3 maps to 2, 11 maps to 10 and so on. In other words the transformation of an intensity value is as follows:   T(r) = floor(r * 1.0 / 2) * 2\n",
    "\n",
    "3. No. of bits to represent each pixel = log(256) = 8<br>Total number of bits to be transmitted = (512 * 512 * 8) + (512 * 512 * 2) = 2621440<br>Time required to transmit over 56K baud link = 2621440 / 56000 = 46.8s<br>Time required to transmit over 3000K baud link = 2621440 / 3000000 = 0.8738s"
   ]
  },
  {
   "cell_type": "code",
   "execution_count": null,
   "metadata": {},
   "outputs": [],
   "source": []
  }
 ],
 "metadata": {
  "kernelspec": {
   "display_name": "DIP_Assn1",
   "language": "python",
   "name": "dip_assn1"
  },
  "language_info": {
   "codemirror_mode": {
    "name": "ipython",
    "version": 3
   },
   "file_extension": ".py",
   "mimetype": "text/x-python",
   "name": "python",
   "nbconvert_exporter": "python",
   "pygments_lexer": "ipython3",
   "version": "3.6.8"
  }
 },
 "nbformat": 4,
 "nbformat_minor": 2
}
