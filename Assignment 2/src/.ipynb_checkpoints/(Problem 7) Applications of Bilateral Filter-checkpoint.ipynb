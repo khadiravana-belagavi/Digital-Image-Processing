{
 "cells": [
  {
   "cell_type": "markdown",
   "metadata": {},
   "source": [
    "# Applications of Bilateral Filter"
   ]
  },
  {
   "cell_type": "code",
   "execution_count": 1,
   "metadata": {},
   "outputs": [],
   "source": [
    "# Importing relevant packages and doing necessary setup\n",
    "import cv2\n",
    "import matplotlib.pyplot as plt\n",
    "import matplotlib\n",
    "import PIL\n",
    "import numpy as np\n",
    "\n",
    "%matplotlib inline\n",
    "\n",
    "# for auto-reloading external modules\n",
    "%load_ext autoreload\n",
    "%autoreload 2"
   ]
  },
  {
   "cell_type": "code",
   "execution_count": 2,
   "metadata": {},
   "outputs": [],
   "source": [
    "# Helper function to display multiple images in a plot\n",
    "def display_images(images, rows, cols, size, title, subtitles):\n",
    "    fig = plt.figure(figsize = size)\n",
    "    c = 0\n",
    "    sz = len(images)\n",
    "    for i in range(rows):\n",
    "        for j in range(cols):\n",
    "            if sz == c:\n",
    "                break\n",
    "            ax1 = fig.add_subplot(rows, cols, c + 1)\n",
    "            ax1.imshow(images[c], cmap = 'gray')\n",
    "            ax1.set_title(subtitles[c], fontsize = 20)\n",
    "            c = c + 1\n",
    "    plt.show()\n",
    "    # Un comment the below line and comment the above line to save and display\n",
    "    #plt.savefig('part2.png')"
   ]
  },
  {
   "cell_type": "markdown",
   "metadata": {},
   "source": [
    "### Part 1"
   ]
  },
  {
   "cell_type": "code",
   "execution_count": null,
   "metadata": {},
   "outputs": [],
   "source": [
    "def bilateral_filter(img, sigma_d, sigma_r, sz):\n",
    "    img = img.astype(np.float64)\n",
    "    row = img.shape[0]\n",
    "    col = img.shape[1]\n",
    "    res = np.zeros(img.shape)\n",
    "    for i in range(int(sz / 2), row - int(sz / 2)):\n",
    "        for j in range(int(sz / 2), col - int(sz / 2)):\n",
    "            for k in range(i - int(sz / 2), i + int(sz / 2) + 1):\n",
    "                for l in range(j - int(sz / 2), j + int(sz / 2) + 1):\n",
    "                    res[i][j] = res[i][j] + img[k][l] * np.exp(-((i - k) * (i - k) + (j - l) * (j - l)) / (2 * sigma_d * sigma_d)) * np.exp(-((img[i][j] - img[k][l]) * (img[i][j] - img[k][l])) / (2 * sigma_r * sigma_r))\n",
    "    return res"
   ]
  }
 ],
 "metadata": {
  "kernelspec": {
   "display_name": "DIP_Assn1",
   "language": "python",
   "name": "dip_assn1"
  },
  "language_info": {
   "codemirror_mode": {
    "name": "ipython",
    "version": 3
   },
   "file_extension": ".py",
   "mimetype": "text/x-python",
   "name": "python",
   "nbconvert_exporter": "python",
   "pygments_lexer": "ipython3",
   "version": "3.6.8"
  }
 },
 "nbformat": 4,
 "nbformat_minor": 2
}
